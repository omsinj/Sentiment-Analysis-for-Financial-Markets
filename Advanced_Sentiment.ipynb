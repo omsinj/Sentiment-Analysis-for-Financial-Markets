# Import Libraries
import pandas as pd
import numpy as np
import logging
from sklearn.model_selection import train_test_split
from tensorflow.keras.models import Sequential, load_model
from tensorflow.keras.layers import Embedding, Conv1D, MaxPooling1D, Bidirectional, LSTM, Dense, Dropout
from tensorflow.keras.preprocessing.text import Tokenizer
from tensorflow.keras.preprocessing.sequence import pad_sequences
import re
from nltk.corpus import stopwords
import nltk

# Set up Logging
logging.basicConfig(level=logging.INFO, format="%(asctime)s - %(levelname)s - %(message)s")

# Load Dataset
file_path = '/mnt/data/all-data.csv'  # Update if needed
df = pd.read_csv(file_path, encoding='latin1')
df.columns = ['Sentiment', 'Text']
logging.info(f"Dataset loaded successfully. Shape: {df.shape}")

# Clean Text
nltk.download('stopwords')
stop_words = set(stopwords.words('english'))

def clean_text(text):
    text = text.lower()
    text = re.sub(r"[^a-zA-Z\s]", "", text)
    text = " ".join(word for word in text.split() if word not in stop_words)
    return text

df['Cleaned_Text'] = df['Text'].apply(clean_text)

# Encode Sentiments
sentiment_mapping = {'positive': 2, 'neutral': 1, 'negative': 0}
df['Sentiment'] = df['Sentiment'].map(sentiment_mapping)

# Tokenise and Pad
tokenizer = Tokenizer(num_words=10000)
tokenizer.fit_on_texts(df['Cleaned_Text'])
sequences = tokenizer.texts_to_sequences(df['Cleaned_Text'])
max_sequence_length = 100
padded_sequences = pad_sequences(sequences, maxlen=max_sequence_length, padding='post')

# Split Data
X_train, X_test, y_train, y_test = train_test_split(
    padded_sequences, df['Sentiment'], test_size=0.2, random_state=42, stratify=df['Sentiment']
)

# Build CNN + BiLSTM Model
model_cnn_bilstm = Sequential([
    Embedding(input_dim=10000, output_dim=128, input_length=max_sequence_length),
    Conv1D(filters=64, kernel_size=3, activation='relu'),
    MaxPooling1D(pool_size=2),
    Bidirectional(LSTM(128, return_sequences=False)),
    Dropout(0.5),
    Dense(128, activation='relu'),
    Dropout(0.5),
    Dense(3, activation='softmax')
])
model_cnn_bilstm.compile(optimizer='adam', loss='sparse_categorical_crossentropy', metrics=['accuracy'])
model_cnn_bilstm.summary()

# Train Model
history = model_cnn_bilstm.fit(
    X_train, y_train,
    validation_data=(X_test, y_test),
    epochs=5,
    batch_size=32
)

# Evaluate Model
results = model_cnn_bilstm.evaluate(X_test, y_test)
logging.info(f"CNN + BiLSTM Test Accuracy: {results[1] * 100:.2f}%")

# Save Model
model_cnn_bilstm.save("cnn_bilstm_sentiment_analysis.h5")
logging.info("Model saved as cnn_bilstm_sentiment_analysis.h5")

# Prediction Function
def predict_sentiment(text, keras_tokenizer, max_sequence_length, model):
    def clean_input_text(input_text):
        input_text = input_text.lower()
        input_text = re.sub(r"[^a-zA-Z\s]", "", input_text)
        input_text = " ".join(word for word in input_text.split() if word not in stop_words)
        return input_text
    
    cleaned_text = clean_input_text(text)
    sequence = keras_tokenizer.texts_to_sequences([cleaned_text])
    padded_sequence = pad_sequences(sequence, maxlen=max_sequence_length, padding="post")
    prediction = model.predict(padded_sequence)
    sentiment_labels = {0: "Negative", 1: "Neutral", 2: "Positive"}
    predicted_class = np.argmax(prediction)
    return sentiment_labels[predicted_class], prediction

# Test Prediction
sample_text = "The company's profits have surged this quarter."
predicted_sentiment, confidence_scores = predict_sentiment(sample_text, tokenizer, max_sequence_length, model_cnn_bilstm)
logging.info(f"Sample Text: {sample_text}")
logging.info(f"Predicted Sentiment: {predicted_sentiment}")
logging.info(f"Confidence Scores: {confidence_scores}")
